{
 "cells": [
  {
   "cell_type": "code",
   "execution_count": 35,
   "id": "6d90d8b5",
   "metadata": {
    "ExecuteTime": {
     "end_time": "2022-11-14T05:25:16.881825Z",
     "start_time": "2022-11-14T05:25:07.850768Z"
    }
   },
   "outputs": [],
   "source": [
    "import pandas as pd\n",
    "import warnings\n",
    "warnings.filterwarnings(\"ignore\")\n",
    "\n",
    "pd.set_option('display.max_columns', 500)\n",
    "pd.set_option('display.max_rows', 100)\n",
    "\n",
    "\n",
    "#df = pd.read_csv('./Dataset_model.csv')\n",
    "\n",
    "df_past = pd.read_csv('./Dataset_model.csv')\n",
    "df_new = pd.read_csv('./Submit.csv', sep=';')\n",
    "\n",
    "df_new[\"acertou\"] = 0\n",
    "\n",
    "df = pd.concat([df_past, df_new])\n",
    "df.reset_index(inplace=True, drop=True)"
   ]
  },
  {
   "cell_type": "code",
   "execution_count": 36,
   "id": "b74c4911",
   "metadata": {
    "ExecuteTime": {
     "end_time": "2022-11-14T05:25:16.897825Z",
     "start_time": "2022-11-14T05:25:16.884827Z"
    }
   },
   "outputs": [],
   "source": [
    "# imports\n",
    "\n",
    "import pandas as pd\n",
    "import numpy as np\n",
    "from sklearn.datasets import load_iris\n",
    "from sklearn.model_selection import train_test_split, cross_val_score\n",
    "from sklearn.preprocessing import MinMaxScaler, StandardScaler, MaxAbsScaler, OneHotEncoder\n",
    "from starsmodelcreation.stars_pipeline import StarsPipeline\n",
    "from sklearn.ensemble import RandomForestClassifier\n",
    "from starsmodelcreation.stars_tuning import StarsHyperparameterTuning\n",
    "from sklearn.metrics import accuracy_score, make_scorer\n",
    "from sklearn.pipeline import make_pipeline, Pipeline\n",
    "from scipy.stats import randint\n",
    "from hyperopt import hp, fmin, tpe, STATUS_OK, Trials\n",
    "from xgboost import XGBClassifier\n",
    "from starsmodelcreation.stars_transforms import LogTransformer"
   ]
  },
  {
   "cell_type": "code",
   "execution_count": 37,
   "id": "e20fa4a5",
   "metadata": {
    "ExecuteTime": {
     "end_time": "2022-11-14T05:25:20.488613Z",
     "start_time": "2022-11-14T05:25:16.899825Z"
    }
   },
   "outputs": [],
   "source": [
    "df[\"created_at\"] = pd.to_datetime(df['created_at'])"
   ]
  },
  {
   "cell_type": "code",
   "execution_count": 38,
   "id": "9c4fd052",
   "metadata": {
    "ExecuteTime": {
     "end_time": "2022-11-14T05:25:21.156074Z",
     "start_time": "2022-11-14T05:25:20.491616Z"
    }
   },
   "outputs": [],
   "source": [
    "class Student():\n",
    "    \n",
    "    def __init__(self, student_id, df):\n",
    "        self.student_id = student_id\n",
    "        self.df = df[[\"acertou\", \"modality_id\", \"difficulty\",\n",
    "                      \"knowledge_area_id\", \"gp:previous experience\",\n",
    "                      \"gp:segment\", \"created_at\"]]\n",
    "        \n",
    "        self.df[\"created_at_shift_1\"] = self.df[\"created_at\"].shift(1)\n",
    "        self.df[\"created_at_shift_3\"] = self.df[\"created_at\"].shift(3)\n",
    "        self.df[\"created_at_shift_5\"] = self.df[\"created_at\"].shift(5)\n",
    "        self.df[\"created_at_shift_10\"] = self.df[\"created_at\"].shift(10)\n",
    "        self.df[\"created_at_shift_20\"] = self.df[\"created_at\"].shift(20)\n",
    "        \n",
    "        self.df[\"diff_time_1\"] = self.df[\"created_at\"] - self.df[\"created_at_shift_1\"]\n",
    "        self.df[\"diff_time_3\"] = self.df[\"created_at\"] - self.df[\"created_at_shift_3\"]\n",
    "        self.df[\"diff_time_5\"] = self.df[\"created_at\"] - self.df[\"created_at_shift_5\"]\n",
    "        self.df[\"diff_time_10\"] = self.df[\"created_at\"] - self.df[\"created_at_shift_10\"]\n",
    "        self.df[\"diff_time_20\"] = self.df[\"created_at\"] - self.df[\"created_at_shift_20\"]\n",
    "        \n",
    "        self.df[\"diff_time_1\"] = self.df[\"diff_time_1\"].apply(lambda x: x.seconds/60)\n",
    "        self.df[\"diff_time_3\"] = self.df[\"diff_time_3\"].apply(lambda x: x.seconds/60)\n",
    "        self.df[\"diff_time_5\"] = self.df[\"diff_time_5\"].apply(lambda x: x.seconds/60)\n",
    "        self.df[\"diff_time_10\"] = self.df[\"diff_time_10\"].apply(lambda x: x.seconds/60)\n",
    "        self.df[\"diff_time_20\"] = self.df[\"diff_time_20\"].apply(lambda x: x.seconds/60)\n",
    "        \n",
    "        self.df.drop(columns=[\"created_at\", \"created_at_shift_1\", \"created_at_shift_3\", \"created_at_shift_5\",\n",
    "                             \"created_at_shift_10\", \"created_at_shift_20\"], inplace=True)\n",
    "        \n",
    "    def calculate_dif_acumulada(self):\n",
    "        self.df[\"dificuldade_acumulada\"] = self.df[\"difficulty\"].expanding(min_periods=1).mean()\n",
    "        self.df[\"dificuldade_acumulada_last_2\"] = self.df[\"difficulty\"].rolling(2).mean()\n",
    "        self.df[\"dificuldade_acumulada_last_5\"] = self.df[\"difficulty\"].rolling(5).mean()\n",
    "        self.df[\"dificuldade_acumulada_last_10\"] = self.df[\"difficulty\"].rolling(10).mean()\n",
    "        self.df[\"dificuldade_acumulada_last_20\"] = self.df[\"difficulty\"].rolling(20).mean()\n",
    "        \n",
    "    def calculate_score_acumulado(self):\n",
    "        self.df[\"score_acumulado1\"] = self.df[\"acertou\"][self.df[\"difficulty\"] == 1].shift(1).expanding().mean()\n",
    "        self.df[\"score_acumulado2\"] = self.df[\"acertou\"][self.df[\"difficulty\"] == 2].shift(1).expanding().mean()\n",
    "        self.df[\"score_acumulado3\"] = self.df[\"acertou\"][self.df[\"difficulty\"] == 3].shift(1).expanding().mean()\n",
    "        self.df[\"score_acumulado4\"] = self.df[\"acertou\"][self.df[\"difficulty\"] == 4].shift(1).expanding().mean()\n",
    "        self.df[\"score_acumulado5\"] = self.df[\"acertou\"][self.df[\"difficulty\"] == 5].shift(1).expanding().mean()\n",
    "\n",
    "    def calculate_score_acumulado_last_10(self):\n",
    "        self.df[\"score_acumulado1_last10\"] = self.df[\"acertou\"][self.df[\"difficulty\"] == 1].rolling(10, closed=\"left\").mean()\n",
    "        self.df[\"score_acumulado2_last10\"] = self.df[\"acertou\"][self.df[\"difficulty\"] == 2].rolling(10, closed=\"left\").mean()\n",
    "        self.df[\"score_acumulado3_last10\"] = self.df[\"acertou\"][self.df[\"difficulty\"] == 3].rolling(10, closed=\"left\").mean()\n",
    "        self.df[\"score_acumulado4_last10\"] = self.df[\"acertou\"][self.df[\"difficulty\"] == 4].rolling(10, closed=\"left\").mean()\n",
    "        self.df[\"score_acumulado5_last10\"] = self.df[\"acertou\"][self.df[\"difficulty\"] == 5].rolling(10, closed=\"left\").mean()\n",
    "        \n",
    "        self.df[\"score_acumulado1_last20\"] = self.df[\"acertou\"][self.df[\"difficulty\"] == 1].rolling(20, closed=\"left\").mean()\n",
    "        self.df[\"score_acumulado2_last20\"] = self.df[\"acertou\"][self.df[\"difficulty\"] == 2].rolling(20, closed=\"left\").mean()\n",
    "        self.df[\"score_acumulado3_last20\"] = self.df[\"acertou\"][self.df[\"difficulty\"] == 3].rolling(20, closed=\"left\").mean()\n",
    "        self.df[\"score_acumulado4_last20\"] = self.df[\"acertou\"][self.df[\"difficulty\"] == 4].rolling(20, closed=\"left\").mean()\n",
    "        self.df[\"score_acumulado5_last20\"] = self.df[\"acertou\"][self.df[\"difficulty\"] == 5].rolling(20, closed=\"left\").mean()\n",
    "        \n",
    "        self.df[\"score_acumulado1_last5\"] = self.df[\"acertou\"][self.df[\"difficulty\"] == 1].rolling(5, closed=\"left\").mean()\n",
    "        self.df[\"score_acumulado2_last5\"] = self.df[\"acertou\"][self.df[\"difficulty\"] == 2].rolling(5, closed=\"left\").mean()\n",
    "        self.df[\"score_acumulado3_last5\"] = self.df[\"acertou\"][self.df[\"difficulty\"] == 3].rolling(5, closed=\"left\").mean()\n",
    "        self.df[\"score_acumulado4_last5\"] = self.df[\"acertou\"][self.df[\"difficulty\"] == 4].rolling(5, closed=\"left\").mean()\n",
    "        self.df[\"score_acumulado5_last5\"] = self.df[\"acertou\"][self.df[\"difficulty\"] == 5].rolling(5, closed=\"left\").mean()\n",
    "        \n",
    "        self.df[\"score_acumulado1_last2\"] = self.df[\"acertou\"][self.df[\"difficulty\"] == 1].rolling(2, closed=\"left\").mean()\n",
    "        self.df[\"score_acumulado2_last2\"] = self.df[\"acertou\"][self.df[\"difficulty\"] == 2].rolling(2, closed=\"left\").mean()\n",
    "        self.df[\"score_acumulado3_last2\"] = self.df[\"acertou\"][self.df[\"difficulty\"] == 3].rolling(2, closed=\"left\").mean()\n",
    "        self.df[\"score_acumulado4_last2\"] = self.df[\"acertou\"][self.df[\"difficulty\"] == 4].rolling(2, closed=\"left\").mean()\n",
    "        self.df[\"score_acumulado5_last2\"] = self.df[\"acertou\"][self.df[\"difficulty\"] == 5].rolling(2, closed=\"left\").mean()\n",
    "    \n",
    "    def acertos_seguidos(self):\n",
    "        self.df[\"acertos_seguidos_2\"] = self.df[\"acertou\"].rolling(2, closed=\"left\").sum()\n",
    "        self.df[\"acertos_seguidos_5\"] = self.df[\"acertou\"].rolling(5, closed=\"left\").sum()\n",
    "        self.df[\"acertos_seguidos_10\"] = self.df[\"acertou\"].rolling(10, closed=\"left\").sum()\n",
    "        self.df[\"acertos_seguidos_20\"] = self.df[\"acertou\"].rolling(20, closed=\"left\").sum()\n",
    "        \n",
    "    def forwardfill(self):\n",
    "        \n",
    "        self.df = self.df.fillna(method=\"ffill\")\n",
    "        \n",
    "    def set_types(self):\n",
    "        col_ = [\"gp:segment\", \"modality_id\", \"gp:previous experience\", \"knowledge_area_id\"]\n",
    "        self.df[col_] = self.df[col_].astype(\"str\")\n",
    "        \n",
    "    def split_train_test(self):\n",
    "        \n",
    "        self.X_train = self.df.iloc[0:-6]\n",
    "        self.X_validation = self.df.iloc[-6:-1]\n",
    "        self.X_test = self.df.iloc[-1]\n",
    "        \n",
    "        \n",
    "        #self.X_validation = self.X_validation.to_frame().T\n",
    "        self.X_test = self.X_test.to_frame().T\n",
    "        \n",
    "        self.y_train = self.df[\"acertou\"].iloc[0:-6]\n",
    "        self.y_validation = self.df[\"acertou\"].iloc[-6:-1]\n",
    "        self.y_test = self.df[\"acertou\"].iloc[-1]\n",
    "\n",
    "        \n",
    "    def main(self):\n",
    "        self.calculate_dif_acumulada()\n",
    "        self.calculate_score_acumulado()\n",
    "        self.calculate_score_acumulado_last_10()\n",
    "        self.acertos_seguidos()\n",
    "        \n",
    "        self.forwardfill()\n",
    "        self.set_types()\n",
    "        \n",
    "        self.df = self.df.iloc[30:]\n",
    "        \n",
    "        self.split_train_test()"
   ]
  },
  {
   "cell_type": "code",
   "execution_count": 39,
   "id": "4fad8d9b",
   "metadata": {
    "ExecuteTime": {
     "end_time": "2022-11-14T05:25:21.204071Z",
     "start_time": "2022-11-14T05:25:21.158076Z"
    }
   },
   "outputs": [],
   "source": [
    "list_students_ids = df[\"novo_user_id\"].unique()"
   ]
  },
  {
   "cell_type": "code",
   "execution_count": 40,
   "id": "e949783c",
   "metadata": {
    "ExecuteTime": {
     "end_time": "2022-11-14T05:25:21.220071Z",
     "start_time": "2022-11-14T05:25:21.206070Z"
    }
   },
   "outputs": [],
   "source": [
    "def create_dataset(list_students):\n",
    "    \n",
    "    y_train = []\n",
    "    y_validation = []\n",
    "    y_test = []\n",
    "    \n",
    "    X_train = pd.DataFrame()\n",
    "    X_validation = pd.DataFrame()\n",
    "    X_test = pd.DataFrame()\n",
    "\n",
    "    for student in list_students:\n",
    "\n",
    "        df_aux_train = student.X_train.loc[:, ~student.X_train.columns.isin(['acertou'])]\n",
    "        X_train = pd.concat([X_train, df_aux_train])\n",
    "        \n",
    "        df_aux_validation = student.X_validation.loc[:, ~student.X_validation.columns.isin(['acertou'])]\n",
    "        X_validation = pd.concat([X_validation, df_aux_validation])\n",
    "        \n",
    "        df_aux_test = student.X_test.loc[:, ~student.X_test.columns.isin(['acertou'])]\n",
    "        X_test = pd.concat([X_test, df_aux_test])\n",
    "        \n",
    "        \n",
    "        y_train.append(list(student.X_train[\"acertou\"]))\n",
    "        y_validation.append(list(student.X_validation[\"acertou\"]))\n",
    "        y_test.append(list(student.X_test[\"acertou\"]))\n",
    "        \n",
    "    X_train.reset_index(inplace=True, drop=True)\n",
    "    X_validation.reset_index(inplace=True, drop=True)\n",
    "    X_test.reset_index(inplace=True, drop=True)\n",
    "    \n",
    "    y_train = [item for sublist in y_train for item in sublist]\n",
    "    y_validation = [item for sublist in y_validation for item in sublist]\n",
    "    y_test = [item for sublist in y_test for item in sublist]\n",
    "        \n",
    "    return X_train, X_validation, X_test, y_train, y_validation, y_test"
   ]
  },
  {
   "cell_type": "code",
   "execution_count": 41,
   "id": "3223a419",
   "metadata": {
    "ExecuteTime": {
     "end_time": "2022-11-14T05:25:21.235070Z",
     "start_time": "2022-11-14T05:25:21.222074Z"
    }
   },
   "outputs": [],
   "source": [
    "from sklearn.metrics import f1_score\n",
    "\n",
    "def objective(space):\n",
    "    model = XGBClassifier(n_estimators =space['n_estimators'],\n",
    "                             num_parallel_tree = 1,\n",
    "                             subsample = 0.8,\n",
    "                             learning_rate = space['learning_rate'],\n",
    "                             max_depth = space['max_depth'],\n",
    "                             gamma = space['gamma'],\n",
    "                             reg_lambda = space['reg_lambda'],\n",
    "                             reg_alpha = space['reg_alpha'],\n",
    "                             scale_pos_weight = space[\"scale_pos_weight\"])\n",
    "\n",
    "    #fitting the model\n",
    "    model.fit(X_train, y_train, verbose=False)\n",
    "\n",
    "    #metric\n",
    "    y_pred_val = model.predict(X_validation)\n",
    "\n",
    "    metric = f1_score(y_validation, y_pred_val)\n",
    "\n",
    "    return{'loss':-1*metric, 'status': STATUS_OK }"
   ]
  },
  {
   "cell_type": "code",
   "execution_count": 42,
   "id": "003cd731",
   "metadata": {
    "ExecuteTime": {
     "end_time": "2022-11-14T12:45:20.408789Z",
     "start_time": "2022-11-14T05:25:21.237072Z"
    }
   },
   "outputs": [
    {
     "name": "stdout",
     "output_type": "stream",
     "text": [
      "0\n",
      "100%|██████████| 100/100 [19:10<00:00, 11.51s/trial, best loss: -0.8387332521315469]\n",
      "{'gamma': 1.0313115745651158, 'learning_rate': 0.18995172330166793, 'max_depth': 7, 'n_estimators': 51, 'reg_alpha': 3.2733064323456023, 'reg_lambda': 6.681857000808238, 'scale_pos_weight': 1.7366902472372143}\n",
      "0.0\n",
      "1\n",
      "100%|██████████| 100/100 [20:35<00:00, 12.35s/trial, best loss: -0.8336453263446898]\n",
      "{'gamma': 4.979354607603163, 'learning_rate': 0.07629564443798689, 'max_depth': 7, 'n_estimators': 172, 'reg_alpha': 4.066297562175072, 'reg_lambda': 4.616398859294036, 'scale_pos_weight': 1.4754979232399443}\n",
      "0.0\n",
      "2\n",
      "100%|██████████| 100/100 [16:59<00:00, 10.19s/trial, best loss: -0.8407690411634212]\n",
      "{'gamma': 1.0368179584098218, 'learning_rate': 0.10330231178981214, 'max_depth': 3, 'n_estimators': 153, 'reg_alpha': 7.246436797894404, 'reg_lambda': 4.861870345474593, 'scale_pos_weight': 1.3793653551246263}\n",
      "0.0\n",
      "3\n",
      "100%|██████████| 100/100 [21:15<00:00, 12.76s/trial, best loss: -0.8321167883211679]\n",
      "{'gamma': 4.585832331126346, 'learning_rate': 0.06468243706883735, 'max_depth': 7, 'n_estimators': 65, 'reg_alpha': 2.8052725891895767, 'reg_lambda': 0.3084939790550598, 'scale_pos_weight': 1.8681580107259246}\n",
      "0.0\n",
      "4\n",
      "100%|██████████| 100/100 [18:37<00:00, 11.17s/trial, best loss: -0.8333545512412477]\n",
      "{'gamma': 2.939161215584477, 'learning_rate': 0.06323449052353769, 'max_depth': 3, 'n_estimators': 178, 'reg_alpha': 4.099455452817396, 'reg_lambda': 2.43817425000678, 'scale_pos_weight': 1.3506925553052425}\n",
      "0.0\n",
      "5\n",
      "100%|██████████| 100/100 [20:54<00:00, 12.55s/trial, best loss: -0.8262086513994911]\n",
      "{'gamma': 4.538887275302592, 'learning_rate': 0.11150245830639867, 'max_depth': 5, 'n_estimators': 175, 'reg_alpha': 8.857826766846333, 'reg_lambda': 5.438267271991358, 'scale_pos_weight': 1.4663373477612007}\n",
      "0.0\n",
      "6\n",
      "100%|██████████| 100/100 [19:45<00:00, 11.85s/trial, best loss: -0.8180513890700404]\n",
      "{'gamma': 1.6799396165161553, 'learning_rate': 0.05420415556681785, 'max_depth': 5, 'n_estimators': 76, 'reg_alpha': 6.439063159671786, 'reg_lambda': 0.42967190894669116, 'scale_pos_weight': 1.3916250159762615}\n",
      "0.0\n",
      "7\n",
      "100%|██████████| 100/100 [20:56<00:00, 12.56s/trial, best loss: -0.8131299373467721]\n",
      "{'gamma': 4.892371624921987, 'learning_rate': 0.16690380340475208, 'max_depth': 6, 'n_estimators': 164, 'reg_alpha': 1.1398887941524465, 'reg_lambda': 9.964550106262019, 'scale_pos_weight': 1.1536732873208946}\n",
      "0.0\n",
      "8\n",
      "100%|██████████| 100/100 [25:26<00:00, 15.27s/trial, best loss: -0.8184371807967314]\n",
      "{'gamma': 4.12967152780323, 'learning_rate': 0.09218874191890306, 'max_depth': 9, 'n_estimators': 155, 'reg_alpha': 7.636221621786542, 'reg_lambda': 5.733343711286405, 'scale_pos_weight': 1.7176203347542445}\n",
      "0.0\n",
      "9\n",
      "100%|██████████| 100/100 [21:25<00:00, 12.86s/trial, best loss: -0.8043037974683543]\n",
      "{'gamma': 4.391332896738755, 'learning_rate': 0.14412693897296094, 'max_depth': 3, 'n_estimators': 172, 'reg_alpha': 5.917441097955035, 'reg_lambda': 8.82399773415359, 'scale_pos_weight': 1.8807770031194124}\n",
      "0.0\n",
      "10\n",
      "100%|██████████| 100/100 [17:14<00:00, 10.35s/trial, best loss: -0.8196240501266499]\n",
      "{'gamma': 4.198109305930952, 'learning_rate': 0.13139289392378461, 'max_depth': 2, 'n_estimators': 172, 'reg_alpha': 1.2734215711394024, 'reg_lambda': 2.8721056806737373, 'scale_pos_weight': 1.1535837782133391}\n",
      "0.0\n",
      "11\n",
      "100%|██████████| 100/100 [20:16<00:00, 12.16s/trial, best loss: -0.8047511010276258]\n",
      "{'gamma': 4.52511784842319, 'learning_rate': 0.15352135089733543, 'max_depth': 2, 'n_estimators': 96, 'reg_alpha': 3.0472178685463795, 'reg_lambda': 9.803539846363755, 'scale_pos_weight': 1.4647313214112314}\n",
      "0.0\n",
      "12\n",
      "100%|██████████| 100/100 [21:31<00:00, 12.91s/trial, best loss: -0.8066709429121232]\n",
      "{'gamma': 3.6030824015557696, 'learning_rate': 0.19744787131197497, 'max_depth': 9, 'n_estimators': 27, 'reg_alpha': 9.948867634528536, 'reg_lambda': 3.0771487426670174, 'scale_pos_weight': 1.9055289252152674}\n",
      "0.0\n",
      "13\n",
      "100%|██████████| 100/100 [21:15<00:00, 12.76s/trial, best loss: -0.7862235974707387]\n",
      "{'gamma': 2.3630110827700794, 'learning_rate': 0.06105804455848153, 'max_depth': 5, 'n_estimators': 86, 'reg_alpha': 4.261751276293667, 'reg_lambda': 6.1230328685514, 'scale_pos_weight': 1.5620371298122875}\n",
      "0.0\n",
      "14\n",
      "100%|██████████| 100/100 [25:39<00:00, 15.40s/trial, best loss: -0.8002092050209204]\n",
      "{'gamma': 4.998597180447701, 'learning_rate': 0.10164490049460832, 'max_depth': 8, 'n_estimators': 110, 'reg_alpha': 4.255113451803426, 'reg_lambda': 5.137725380596154, 'scale_pos_weight': 1.8332002799335085}\n",
      "0.0\n",
      "15\n",
      "100%|██████████| 100/100 [20:55<00:00, 12.55s/trial, best loss: -0.8087154801114771]\n",
      "{'gamma': 3.3651625996704446, 'learning_rate': 0.04964982507374281, 'max_depth': 5, 'n_estimators': 129, 'reg_alpha': 6.072335449313347, 'reg_lambda': 1.2986975754677728, 'scale_pos_weight': 1.742910139052716}\n",
      "0.0\n",
      "16\n",
      "100%|██████████| 100/100 [19:55<00:00, 11.96s/trial, best loss: -0.8008325744763888]\n",
      "{'gamma': 3.176881787991344, 'learning_rate': 0.12170632510081875, 'max_depth': 5, 'n_estimators': 132, 'reg_alpha': 4.5578027360702045, 'reg_lambda': 2.1966637260605815, 'scale_pos_weight': 1.7033702720086437}\n",
      "0.0\n",
      "17\n",
      "100%|██████████| 100/100 [23:43<00:00, 14.23s/trial, best loss: -0.8009079983976498]\n",
      "{'gamma': 2.0500338331056156, 'learning_rate': 0.04961988710195618, 'max_depth': 9, 'n_estimators': 65, 'reg_alpha': 8.031831057609391, 'reg_lambda': 8.086987694105991, 'scale_pos_weight': 1.4123658580037302}\n",
      "0.0\n",
      "18\n",
      "100%|██████████| 100/100 [18:32<00:00, 11.13s/trial, best loss: -0.8037255170524586]\n",
      "{'gamma': 2.0109933506182593, 'learning_rate': 0.099610617364076, 'max_depth': 6, 'n_estimators': 29, 'reg_alpha': 3.1651088917141394, 'reg_lambda': 6.081971707031713, 'scale_pos_weight': 1.2483541296617682}\n",
      "0.0\n",
      "19\n",
      "100%|██████████| 100/100 [10:33<00:00,  6.33s/trial, best loss: -0.8001555209953344]\n",
      "{'gamma': 1.0617902923764873, 'learning_rate': 0.17801630920497313, 'max_depth': 5, 'n_estimators': 85, 'reg_alpha': 2.1759438371679285, 'reg_lambda': 6.987319859399581, 'scale_pos_weight': 1.8922011478577194}\n",
      "0.0\n"
     ]
    }
   ],
   "source": [
    "list_models = []\n",
    "list_pred = []\n",
    "\n",
    "for i in range(0, 20):\n",
    "    \n",
    "    print(i)\n",
    "    \n",
    "    list_students_ids = list(range(1 + i*1000, i*1000 + 1000 + 1))\n",
    "\n",
    "    list_students = []\n",
    "\n",
    "    for idx in list_students_ids:\n",
    "        student = Student(idx, df[df[\"novo_user_id\"] == idx])\n",
    "        student.main()\n",
    "        list_students.append(student)\n",
    "        \n",
    "    X_train, X_validation, X_test, y_train, y_validation, y_test = create_dataset(list_students)\n",
    "    \n",
    "    # data transformation\n",
    "\n",
    "    col = [\"knowledge_area_id\", \"gp:previous experience\", \"modality_id\", \"gp:segment\"]\n",
    "\n",
    "    encoder = OneHotEncoder(handle_unknown='infrequent_if_exist', max_categories=5, sparse=False)\n",
    "    encoder.fit(X_train[col])\n",
    "\n",
    "    # cat\n",
    "    X_train_cat = encoder.transform(X_train[col])\n",
    "    X_validation_cat = encoder.transform(X_validation[col])\n",
    "    X_test_cat = encoder.transform(X_test[col])\n",
    "\n",
    "    X_train_cat = pd.DataFrame(X_train_cat, columns=encoder.get_feature_names_out())\n",
    "    X_validation_cat = pd.DataFrame(X_validation_cat, columns=encoder.get_feature_names_out())\n",
    "    X_test_cat = pd.DataFrame(X_test_cat, columns=encoder.get_feature_names_out())\n",
    "\n",
    "    #num\n",
    "    X_train_num = X_train.loc[:, ~X_train.columns.isin(col)]\n",
    "    X_validation_num = X_validation.loc[:, ~X_validation.columns.isin(col)]\n",
    "    X_test_num = X_test.loc[:, ~X_test.columns.isin(col)]\n",
    "\n",
    "    #join both\n",
    "    X_train = pd.concat([X_train_cat, X_train_num], axis=1)\n",
    "    X_validation = pd.concat([X_validation_cat, X_validation_num], axis=1)\n",
    "    X_test = pd.concat([X_test_cat, X_test_num], axis=1)\n",
    "    \n",
    "    X_train = X_train.fillna(0)\n",
    "    X_validation = X_validation.fillna(0)\n",
    "    X_test = X_test.fillna(0)\n",
    "    \n",
    "    space ={'max_depth': hp.randint(\"max_depth\", 1, 10),\n",
    "            'gamma' : hp.uniform('gamma', 1.0, 5.0),\n",
    "            'reg_lambda' : hp.uniform('reg_lambda', 0, 10),\n",
    "            'reg_alpha' : hp.uniform('reg_alpha', 0, 10),\n",
    "            'learning_rate' :hp.uniform('learning_rate', 0.001 , 0.2),\n",
    "            'n_estimators' :hp.randint('n_estimators', 10, 200),\n",
    "            \"scale_pos_weight\": hp.uniform(\"scale_pos_weight\", 0.1, 10)\n",
    "        }\n",
    "\n",
    "\n",
    "    trials = Trials()\n",
    "\n",
    "    rstate = np.random.default_rng(i)\n",
    "\n",
    "    best = fmin(fn=objective,\n",
    "                space=space,\n",
    "                algo=tpe.suggest,\n",
    "                max_evals=100,\n",
    "                trials=trials,\n",
    "                rstate=rstate)\n",
    "\n",
    "    print(best)\n",
    "    \n",
    "    # make a prediction\n",
    "    model = XGBClassifier(n_estimators =best['n_estimators'],\n",
    "                          num_parallel_tree = 1,\n",
    "                          subsample = 0.8,\n",
    "                          learning_rate = best['learning_rate'],\n",
    "                          max_depth = best['max_depth'],\n",
    "                          gamma = best['gamma'],\n",
    "                          reg_lambda = best['reg_lambda'],\n",
    "                          reg_alpha = best['reg_alpha'],\n",
    "                          scale_pos_weight = best[\"scale_pos_weight\"])\n",
    "\n",
    "    model.fit(X_train, y_train)\n",
    "    y_pred = model.predict(X_test)\n",
    "    \n",
    "    list_models.append(model)\n",
    "    \n",
    "    list_pred.append(y_pred)\n",
    "    \n",
    "    print(f1_score(y_test, y_pred))"
   ]
  },
  {
   "cell_type": "code",
   "execution_count": 43,
   "id": "d836962f",
   "metadata": {
    "ExecuteTime": {
     "end_time": "2022-11-14T12:45:20.424789Z",
     "start_time": "2022-11-14T12:45:20.412788Z"
    }
   },
   "outputs": [],
   "source": [
    "list_pred = [item for sublist in list_pred for item in sublist]"
   ]
  },
  {
   "cell_type": "code",
   "execution_count": 44,
   "id": "7ad6df65",
   "metadata": {
    "ExecuteTime": {
     "end_time": "2022-11-14T12:45:20.644820Z",
     "start_time": "2022-11-14T12:45:20.437791Z"
    }
   },
   "outputs": [],
   "source": [
    "y_pred = pd.DataFrame(list_pred)"
   ]
  },
  {
   "cell_type": "code",
   "execution_count": 45,
   "id": "81c86e0e",
   "metadata": {
    "ExecuteTime": {
     "end_time": "2022-11-14T12:45:20.930788Z",
     "start_time": "2022-11-14T12:45:20.647795Z"
    }
   },
   "outputs": [
    {
     "data": {
      "text/plain": [
       "array([[<AxesSubplot: title={'center': '0'}>]], dtype=object)"
      ]
     },
     "execution_count": 45,
     "metadata": {},
     "output_type": "execute_result"
    },
    {
     "data": {
      "image/png": "[encoded data removed]",
      "text/plain": [
       "<Figure size 640x480 with 1 Axes>"
      ]
     },
     "metadata": {},
     "output_type": "display_data"
    }
   ],
   "source": [
    "y_pred.hist()"
   ]
  },
  {
   "cell_type": "code",
   "execution_count": 46,
   "id": "24dc7292",
   "metadata": {
    "ExecuteTime": {
     "end_time": "2022-11-14T12:45:20.977828Z",
     "start_time": "2022-11-14T12:45:20.933789Z"
    }
   },
   "outputs": [],
   "source": [
    "y_pred.to_csv('./final_primeiro_win.csv', index=False, header=False)"
   ]
  }
 ],
 "metadata": {
  "kernelspec": {
   "display_name": "Python 3 (ipykernel)",
   "language": "python",
   "name": "python3"
  },
  "language_info": {
   "codemirror_mode": {
    "name": "ipython",
    "version": 3
   },
   "file_extension": ".py",
   "mimetype": "text/x-python",
   "name": "python",
   "nbconvert_exporter": "python",
   "pygments_lexer": "ipython3",
   "version": "3.9.13"
  },
  "toc": {
   "base_numbering": 1,
   "nav_menu": {},
   "number_sections": true,
   "sideBar": true,
   "skip_h1_title": false,
   "title_cell": "Table of Contents",
   "title_sidebar": "Contents",
   "toc_cell": false,
   "toc_position": {},
   "toc_section_display": true,
   "toc_window_display": false
  },
  "varInspector": {
   "cols": {
    "lenName": 16,
    "lenType": 16,
    "lenVar": 40
   },
   "kernels_config": {
    "python": {
     "delete_cmd_postfix": "",
     "delete_cmd_prefix": "del ",
     "library": "var_list.py",
     "varRefreshCmd": "print(var_dic_list())"
    },
    "r": {
     "delete_cmd_postfix": ") ",
     "delete_cmd_prefix": "rm(",
     "library": "var_list.r",
     "varRefreshCmd": "cat(var_dic_list()) "
    }
   },
   "types_to_exclude": [
    "module",
    "function",
    "builtin_function_or_method",
    "instance",
    "_Feature"
   ],
   "window_display": false
  }
 },
 "nbformat": 4,
 "nbformat_minor": 5
}
